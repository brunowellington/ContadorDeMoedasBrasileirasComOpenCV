{
  "cells": [
    {
      "cell_type": "code",
      "execution_count": 1,
      "metadata": {},
      "outputs": [
        {
          "name": "stdout",
          "output_type": "stream",
          "text": [
            "WARNING:tensorflow:From c:\\Users\\BRUNO WELL\\Desktop\\contador de moedas real\\.venv\\lib\\site-packages\\keras\\src\\losses.py:2976: The name tf.losses.sparse_softmax_cross_entropy is deprecated. Please use tf.compat.v1.losses.sparse_softmax_cross_entropy instead.\n",
            "\n"
          ]
        }
      ],
      "source": [
        "import numpy as np\n",
        "import pandas as pd\n",
        "import os\n",
        "import cv2\n",
        "import matplotlib.pyplot as plt\n",
        "import itertools\n",
        "import tensorflow as tf\n",
        "from keras.layers import Dropout\n",
        "from keras import Sequential\n",
        "from keras.utils import to_categorical\n",
        "from keras.preprocessing.image import ImageDataGenerator\n",
        "from sklearn.model_selection import train_test_split\n",
        "from sklearn.metrics import confusion_matrix, accuracy_score, precision_score, recall_score, f1_score\n",
        "from sklearn.utils import resample"
      ]
    },
    {
      "cell_type": "markdown",
      "metadata": {},
      "source": [
        "# Testando modelo com uma imagem da internet"
      ]
    },
    {
      "cell_type": "code",
      "execution_count": 2,
      "metadata": {},
      "outputs": [
        {
          "name": "stdout",
          "output_type": "stream",
          "text": [
            "WARNING:tensorflow:From c:\\Users\\BRUNO WELL\\Desktop\\contador de moedas real\\.venv\\lib\\site-packages\\keras\\src\\backend.py:1398: The name tf.executing_eagerly_outside_functions is deprecated. Please use tf.compat.v1.executing_eagerly_outside_functions instead.\n",
            "\n",
            "WARNING:tensorflow:From c:\\Users\\BRUNO WELL\\Desktop\\contador de moedas real\\.venv\\lib\\site-packages\\keras\\src\\layers\\normalization\\batch_normalization.py:979: The name tf.nn.fused_batch_norm is deprecated. Please use tf.compat.v1.nn.fused_batch_norm instead.\n",
            "\n"
          ]
        }
      ],
      "source": [
        "read_model = tf.keras.models.load_model('../modelo/mode_acurracy90TesteDia30as23hrs.h5')"
      ]
    },
    {
      "cell_type": "code",
      "execution_count": 4,
      "metadata": {},
      "outputs": [
        {
          "name": "stdout",
          "output_type": "stream",
          "text": [
            "1/1 [==============================] - 1s 985ms/step\n",
            "Saída Preditada: [[0.000000e+00 1.000000e+00 7.274094e-20 0.000000e+00 0.000000e+00]]\n",
            "Classe Prevista: Moeda de 10 centavos\n"
          ]
        }
      ],
      "source": [
        "# Testando o modelo\n",
        "teste_image_path = '../imagem/moeda.jpg'\n",
        "teste_image = tf.keras.preprocessing.image.load_img(teste_image_path, target_size=(64, 64))\n",
        "teste_image_array = tf.keras.preprocessing.image.img_to_array(teste_image)\n",
        "teste_image_array = np.expand_dims(teste_image_array, axis=0) \n",
        "\n",
        "# Predição\n",
        "saida_predita = read_model.predict(teste_image_array)\n",
        "\n",
        "print('Saída Preditada:', saida_predita)\n",
        "\n",
        "# Mapeamento de números de classe para nomes de classe\n",
        "class_name = {\n",
        "    0: \"Moeda de 5 centavos\",\n",
        "    1: \"Moeda de 10 centavos\",\n",
        "    2: \"Moeda de 25 centavos\",\n",
        "    3: \"Moeda de 50 centavos\",\n",
        "    4: \"Moeda de 1 real\"\n",
        "}\n",
        "\n",
        "# Obtém o número da classe prevista\n",
        "classe_prevista = np.argmax(saida_predita)\n",
        "\n",
        "# Obtém o nome da classe prevista usando o mapeamento\n",
        "nome_classe_prevista = class_name[classe_prevista]\n",
        "\n",
        "print('Classe Prevista:', nome_classe_prevista)\n"
      ]
    }
  ],
  "metadata": {
    "accelerator": "GPU",
    "colab": {
      "gpuType": "T4",
      "provenance": []
    },
    "kaggle": {
      "accelerator": "none",
      "dataSources": [
        {
          "datasetId": 1129,
          "sourceId": 1135640,
          "sourceType": "datasetVersion"
        }
      ],
      "dockerImageVersionId": 30558,
      "isGpuEnabled": false,
      "isInternetEnabled": false,
      "language": "python",
      "sourceType": "notebook"
    },
    "kernelspec": {
      "display_name": "Python 3",
      "name": "python3"
    },
    "language_info": {
      "codemirror_mode": {
        "name": "ipython",
        "version": 3
      },
      "file_extension": ".py",
      "mimetype": "text/x-python",
      "name": "python",
      "nbconvert_exporter": "python",
      "pygments_lexer": "ipython3",
      "version": "3.10.9"
    }
  },
  "nbformat": 4,
  "nbformat_minor": 0
}

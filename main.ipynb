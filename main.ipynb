{
 "cells": [
  {
   "cell_type": "code",
   "execution_count": 1,
   "metadata": {},
   "outputs": [
    {
     "name": "stdout",
     "output_type": "stream",
     "text": [
      "WARNING:tensorflow:From c:\\Users\\BRUNO WELL\\Desktop\\contador de moedas real\\venv\\lib\\site-packages\\keras\\src\\losses.py:2976: The name tf.losses.sparse_softmax_cross_entropy is deprecated. Please use tf.compat.v1.losses.sparse_softmax_cross_entropy instead.\n",
      "\n"
     ]
    },
    {
     "data": {
      "text/plain": [
       "(672, 676, 661, 640, 639)"
      ]
     },
     "execution_count": 1,
     "metadata": {},
     "output_type": "execute_result"
    }
   ],
   "source": [
    "import numpy as np \n",
    "import pandas as pd\n",
    "import os\n",
    "import shutil\n",
    "import tensorflow as tf\n",
    "import matplotlib.pyplot as plt\n",
    "import matplotlib.image as mpimg\n",
    "import random\n",
    "\n",
    "# Pega todo caminho\n",
    "base_dir = os.getcwd()\n",
    "# Pega o caminho e atribui as variaveis\n",
    "CincoCentDir = os.path.join(base_dir,'dataset/5') \n",
    "DezCentDir = os.path.join(base_dir,'dataset/10') \n",
    "VinteCincoCentDir = os.path.join(base_dir,'dataset/25') \n",
    "CinquentaCentDir = os.path.join(base_dir,'dataset/50') \n",
    "UmRealCentDir = os.path.join(base_dir,'dataset/100')  \n",
    "\n",
    "# verificar se esta carreando todas as imagens\n",
    "cincoCent_images = os.listdir(CincoCentDir)\n",
    "dezCent_images = os.listdir(DezCentDir)\n",
    "vinteCincoCent_images = os.listdir(VinteCincoCentDir)\n",
    "cinquentaCent_images = os.listdir(CinquentaCentDir)\n",
    "umRealCent_images = os.listdir(UmRealCentDir)\n",
    "\n",
    "len(cincoCent_images), len(dezCent_images), len(vinteCincoCent_images), len(cinquentaCent_images), len(umRealCent_images)"
   ]
  },
  {
   "cell_type": "code",
   "execution_count": null,
   "metadata": {},
   "outputs": [],
   "source": [
    "train_cincoCent_images = cincoCent_images[:int(.8*(len(cincoCent_images)))]\n",
    "val_cincoCent_images = cincoCent_images[int(.8*(len(cincoCent_images))):]\n",
    "\n",
    "train_dezCent_images = dezCent_images[:int(.8*(len(dezCent_images)))]\n",
    "val_dezCent_images = dezCent_images[int(.8*(len(dezCent_images))):]\n",
    "\n",
    "train_vinteCincoCent_images = vinteCincoCent_images[:int(.8*(len(vinteCincoCent_images)))]\n",
    "val_vinteCincoCent_images = vinteCincoCent_images[int(.8*(len(vinteCincoCent_images))):]\n",
    "\n",
    "train_cinquentaCent_images = cinquentaCent_images[:int(.8*(len(cinquentaCent_images)))]\n",
    "val_cinquentaCent_images = cinquentaCent_images[int(.8*(len(cinquentaCent_images))):]\n",
    "\n",
    "train_umRealCent_images = umRealCent_images[:int(.8*(len(umRealCent_images)))]\n",
    "val_umRealCent_images = umRealCent_images[int(.8*(len(umRealCent_images))):]\n",
    "\n",
    "# Gerando dados \n",
    "train_dir = 'train_data/'\n",
    "val_dir = 'val_data/'\n",
    "\n",
    "try:\n",
    "    os.makedirs(os.path.join(base_dir, train_dir, '5/'))\n",
    "except:\n",
    "    pass\n",
    "try:\n",
    "    os.makedirs(os.path.join(base_dir, train_dir, '10/'))\n",
    "except:\n",
    "    pass\n",
    "try:\n",
    "    os.makedirs(os.path.join(base_dir, train_dir, '25/'))\n",
    "except:\n",
    "    pass\n",
    "try:\n",
    "    os.makedirs(os.path.join(base_dir, train_dir, '50/'))\n",
    "except:\n",
    "    pass\n",
    "try:\n",
    "    os.makedirs(os.path.join(base_dir, train_dir, '100/'))\n",
    "except:\n",
    "    pass\n",
    "\n",
    "try:\n",
    "    os.makedirs(os.path.join(base_dir, val_dir, '5/'))\n",
    "except:\n",
    "    pass\n",
    "try:\n",
    "    os.makedirs(os.path.join(base_dir, val_dir, '10/'))\n",
    "except:\n",
    "    pass\n",
    "try:\n",
    "    os.makedirs(os.path.join(base_dir, val_dir, '25/'))\n",
    "except:\n",
    "    pass\n",
    "try:\n",
    "    os.makedirs(os.path.join(base_dir, val_dir, '50/'))\n",
    "except:\n",
    "    pass\n",
    "try:\n",
    "    os.makedirs(os.path.join(base_dir, val_dir, '100/'))\n",
    "except:\n",
    "    pass\n",
    "\n",
    "for image in train_cincoCent_images:\n",
    "    src = CincoCentDir + image\n",
    "    dst = os.path.join(base_dir, train_dir, '5/')\n",
    "    shutil.copy(src, dst)\n",
    "\n",
    "for image in train_dezCent_images:\n",
    "    src = DezCentDir + image\n",
    "    dst = os.path.join(base_dir, train_dir, '10/')\n",
    "    shutil.copy(src, dst)\n",
    "\n",
    "for image in train_vinteCincoCent_images:\n",
    "    src = VinteCincoCentDir + image\n",
    "    dst = os.path.join(base_dir, train_dir, '25/')\n",
    "    shutil.copy(src, dst)\n",
    "\n",
    "for image in train_cinquentaCent_images:\n",
    "    src = CinquentaCentDir + image\n",
    "    dst = os.path.join(base_dir, train_dir, '50/')\n",
    "    shutil.copy(src, dst)\n",
    "\n",
    "for image in train_umRealCent_images:\n",
    "    src = UmRealCentDir + image\n",
    "    dst = os.path.join(base_dir, train_dir, '100/')\n",
    "    shutil.copy(src, dst)\n",
    "\n",
    "for image in val_cincoCent_images:\n",
    "    src = CincoCentDir + image\n",
    "    dst = os.path.join(base_dir, val_dir, '5/')\n",
    "    shutil.copy(src, dst)\n",
    "\n",
    "for image in val_dezCent_images:\n",
    "    src = DezCentDir + image\n",
    "    dst = os.path.join(base_dir, val_dir, '10/')\n",
    "    shutil.copy(src, dst)\n",
    "\n",
    "for image in val_vinteCincoCent_images:\n",
    "    src = VinteCincoCentDir + image\n",
    "    dst = os.path.join(base_dir, val_dir, '25/')\n",
    "    shutil.copy(src, dst)\n",
    "\n",
    "for image in val_cinquentaCent_images:\n",
    "    src = CinquentaCentDir + image\n",
    "    dst = os.path.join(base_dir, val_dir, '50/')\n",
    "    shutil.copy(src, dst)\n",
    "\n",
    "for image in val_umRealCent_images:\n",
    "    src = UmRealCentDir + image\n",
    "    dst = os.path.join(base_dir, val_dir, '100/')\n",
    "    shutil.copy(src, dst)"
   ]
  },
  {
   "cell_type": "code",
   "execution_count": null,
   "metadata": {},
   "outputs": [],
   "source": [
    "train_data_gen = tf.keras.preprocessing.image.ImageDataGenerator(rescale = 1/255.)\n",
    "val_data_gen = tf.keras.preprocessing.image.ImageDataGenerator(rescale = 1/255.)\n",
    "\n",
    "train_dataset = train_data_gen.flow_from_directory(os.path.join(base_dir, train_dir), target_size = (64,64), class_mode = 'categorical')\n",
    "val_dataset = val_data_gen.flow_from_directory(os.path.join(base_dir, val_dir), target_size = (64,64), class_mode = 'categorical')"
   ]
  },
  {
   "cell_type": "code",
   "execution_count": null,
   "metadata": {},
   "outputs": [],
   "source": [
    "model = tf.keras.Sequential()\n",
    "model.add(tf.keras.layers.Conv2D(32, (3, 3), activation='relu', input_shape=(64, 64, 3)))\n",
    "model.add(tf.keras.layers.MaxPooling2D((2, 2)))\n",
    "model.add(tf.keras.layers.Flatten())\n",
    "\n",
    "model.add(tf.keras.layers.Dense(64, activation='relu'))\n",
    "model.add(tf.keras.layers.Dense(5, activation='softmax'))\n",
    "model.summary()"
   ]
  },
  {
   "cell_type": "code",
   "execution_count": null,
   "metadata": {},
   "outputs": [],
   "source": [
    "opt = tf.keras.optimizers.Adam(learning_rate=0.02)\n",
    "\n",
    "model.compile(loss='categorical_crossentropy', optimizer=opt, metrics=['mse'])"
   ]
  },
  {
   "cell_type": "code",
   "execution_count": null,
   "metadata": {},
   "outputs": [],
   "source": [
    "history = model.fit(train_dataset, epochs=5, validation_data=val_dataset)"
   ]
  }
 ],
 "metadata": {
  "kernelspec": {
   "display_name": "Python 3",
   "language": "python",
   "name": "python3"
  },
  "language_info": {
   "codemirror_mode": {
    "name": "ipython",
    "version": 3
   },
   "file_extension": ".py",
   "mimetype": "text/x-python",
   "name": "python",
   "nbconvert_exporter": "python",
   "pygments_lexer": "ipython3",
   "version": "3.10.9"
  }
 },
 "nbformat": 4,
 "nbformat_minor": 2
}

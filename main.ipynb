{
 "cells": [
  {
   "cell_type": "code",
   "execution_count": 1,
   "metadata": {},
   "outputs": [
    {
     "name": "stdout",
     "output_type": "stream",
     "text": [
      "WARNING:tensorflow:From c:\\Users\\BRUNO WELL\\Desktop\\contador de moedas real\\venv\\lib\\site-packages\\keras\\src\\losses.py:2976: The name tf.losses.sparse_softmax_cross_entropy is deprecated. Please use tf.compat.v1.losses.sparse_softmax_cross_entropy instead.\n",
      "\n"
     ]
    },
    {
     "data": {
      "text/plain": [
       "(672, 676, 661, 640, 639)"
      ]
     },
     "execution_count": 1,
     "metadata": {},
     "output_type": "execute_result"
    }
   ],
   "source": [
    "import numpy as np \n",
    "import pandas as pd\n",
    "import os\n",
    "import shutil\n",
    "import tensorflow as tf\n",
    "import matplotlib.pyplot as plt\n",
    "import matplotlib.image as mpimg\n",
    "import random\n",
    "\n",
    "# Pega todo caminho\n",
    "base_dir = os.getcwd()\n",
    "# Pega o caminho e atribui as variaveis\n",
    "CincoCent = os.path.join(base_dir,'dataset/5') \n",
    "DezCent = os.path.join(base_dir,'dataset/10') \n",
    "VinteCincoCent = os.path.join(base_dir,'dataset/25') \n",
    "CinquentaCent = os.path.join(base_dir,'dataset/50') \n",
    "UmRealCent = os.path.join(base_dir,'dataset/100')  \n",
    "\n",
    "# verificar se esta carreando todas as imagens\n",
    "cincoCent_images = os.listdir(CincoCent)\n",
    "dezCent_images = os.listdir(DezCent)\n",
    "vinteCincoCent_images = os.listdir(VinteCincoCent)\n",
    "cinquentaCent_images = os.listdir(CinquentaCent)\n",
    "umRealCent_images = os.listdir(UmRealCent)\n",
    "\n",
    "len(cincoCent_images), len(dezCent_images), len(vinteCincoCent_images), len(cinquentaCent_images), len(umRealCent_images)\n",
    "\n"
   ]
  }
 ],
 "metadata": {
  "kernelspec": {
   "display_name": "Python 3",
   "language": "python",
   "name": "python3"
  },
  "language_info": {
   "codemirror_mode": {
    "name": "ipython",
    "version": 3
   },
   "file_extension": ".py",
   "mimetype": "text/x-python",
   "name": "python",
   "nbconvert_exporter": "python",
   "pygments_lexer": "ipython3",
   "version": "3.10.9"
  }
 },
 "nbformat": 4,
 "nbformat_minor": 2
}

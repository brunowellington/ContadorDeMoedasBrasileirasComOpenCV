{
 "cells": [
  {
   "cell_type": "code",
   "execution_count": 2,
   "metadata": {},
   "outputs": [
    {
     "ename": "ModuleNotFoundError",
     "evalue": "No module named 'scipy'",
     "output_type": "error",
     "traceback": [
      "\u001b[1;31m---------------------------------------------------------------------------\u001b[0m",
      "\u001b[1;31mModuleNotFoundError\u001b[0m                       Traceback (most recent call last)",
      "Cell \u001b[1;32mIn[2], line 10\u001b[0m\n\u001b[0;32m      8\u001b[0m \u001b[38;5;28;01mimport\u001b[39;00m \u001b[38;5;21;01mmatplotlib\u001b[39;00m\u001b[38;5;21;01m.\u001b[39;00m\u001b[38;5;21;01mimage\u001b[39;00m \u001b[38;5;28;01mas\u001b[39;00m \u001b[38;5;21;01mmpimg\u001b[39;00m\n\u001b[0;32m      9\u001b[0m \u001b[38;5;28;01mimport\u001b[39;00m \u001b[38;5;21;01mrandom\u001b[39;00m\n\u001b[1;32m---> 10\u001b[0m \u001b[38;5;28;01mimport\u001b[39;00m \u001b[38;5;21;01mscipy\u001b[39;00m\n\u001b[0;32m     11\u001b[0m \u001b[38;5;28;01mfrom\u001b[39;00m \u001b[38;5;21;01msklearn\u001b[39;00m\u001b[38;5;21;01m.\u001b[39;00m\u001b[38;5;21;01mmodel_selection\u001b[39;00m \u001b[38;5;28;01mimport\u001b[39;00m train_test_split\n\u001b[0;32m     12\u001b[0m \u001b[38;5;28;01mfrom\u001b[39;00m \u001b[38;5;21;01msklearn\u001b[39;00m\u001b[38;5;21;01m.\u001b[39;00m\u001b[38;5;21;01mpreprocessing\u001b[39;00m \u001b[38;5;28;01mimport\u001b[39;00m StandardScaler\n",
      "\u001b[1;31mModuleNotFoundError\u001b[0m: No module named 'scipy'"
     ]
    }
   ],
   "source": [
    "import numpy as np \n",
    "import pandas as pd\n",
    "import os\n",
    "import shutil\n",
    "import tensorflow as tf\n",
    "import matplotlib.pyplot as plt\n",
    "import matplotlib.image as mpimg\n",
    "import random\n",
    "\n",
    "# Pega todo caminho\n",
    "base_dir = os.getcwd()\n",
    "# Pega o caminho e atribui as variaveis\n",
    "CincoCentDir = os.path.join(base_dir,'dataset/5/') \n",
    "DezCentDir = os.path.join(base_dir,'dataset/10/') \n",
    "VinteCincoCentDir = os.path.join(base_dir,'dataset/25/') \n",
    "CinquentaCentDir = os.path.join(base_dir,'dataset/50/') \n",
    "UmRealCentDir = os.path.join(base_dir,'dataset/100/')  \n",
    "\n",
    "# verificar se esta carreando todas as imagens\n",
    "cincoCent_images = os.listdir(CincoCentDir)\n",
    "dezCent_images = os.listdir(DezCentDir)\n",
    "vinteCincoCent_images = os.listdir(VinteCincoCentDir)\n",
    "cinquentaCent_images = os.listdir(CinquentaCentDir)\n",
    "umRealCent_images = os.listdir(UmRealCentDir)\n",
    "\n",
    "print('quantidade de imagem em cada cada pasta respectivamente:',len(cincoCent_images), len(dezCent_images), len(vinteCincoCent_images), len(cinquentaCent_images), len(umRealCent_images))\n"
   ]
  },
  {
   "cell_type": "code",
   "execution_count": null,
   "metadata": {},
   "outputs": [],
   "source": [
    "train_cincoCent_images = cincoCent_images[:int(.8*(len(cincoCent_images)))]\n",
    "val_cincoCent_images = cincoCent_images[int(.8*(len(cincoCent_images))):]\n",
    "\n",
    "train_dezCent_images = dezCent_images[:int(.8*(len(dezCent_images)))]\n",
    "val_dezCent_images = dezCent_images[int(.8*(len(dezCent_images))):]\n",
    "\n",
    "train_vinteCincoCent_images = vinteCincoCent_images[:int(.8*(len(vinteCincoCent_images)))]\n",
    "val_vinteCincoCent_images = vinteCincoCent_images[int(.8*(len(vinteCincoCent_images))):]\n",
    "\n",
    "train_cinquentaCent_images = cinquentaCent_images[:int(.8*(len(cinquentaCent_images)))]\n",
    "val_cinquentaCent_images = cinquentaCent_images[int(.8*(len(cinquentaCent_images))):]\n",
    "\n",
    "train_umRealCent_images = umRealCent_images[:int(.8*(len(umRealCent_images)))]\n",
    "val_umRealCent_images = umRealCent_images[int(.8*(len(umRealCent_images))):]\n",
    "\n",
    "# Gerando dados \n",
    "train_dir = 'train_data/'\n",
    "val_dir = 'val_data/'\n",
    "\n",
    "try:\n",
    "    os.makedirs(os.path.join(base_dir, train_dir, '5/'))\n",
    "except:\n",
    "    pass\n",
    "try:\n",
    "    os.makedirs(os.path.join(base_dir, train_dir, '10/'))\n",
    "except:\n",
    "    pass\n",
    "try:\n",
    "    os.makedirs(os.path.join(base_dir, train_dir, '25/'))\n",
    "except:\n",
    "    pass\n",
    "try:\n",
    "    os.makedirs(os.path.join(base_dir, train_dir, '50/'))\n",
    "except:\n",
    "    pass\n",
    "try:\n",
    "    os.makedirs(os.path.join(base_dir, train_dir, '100/'))\n",
    "except:\n",
    "    pass\n",
    "\n",
    "try:\n",
    "    os.makedirs(os.path.join(base_dir, val_dir, '5/'))\n",
    "except:\n",
    "    pass\n",
    "try:\n",
    "    os.makedirs(os.path.join(base_dir, val_dir, '10/'))\n",
    "except:\n",
    "    pass\n",
    "try:\n",
    "    os.makedirs(os.path.join(base_dir, val_dir, '25/'))\n",
    "except:\n",
    "    pass\n",
    "try:\n",
    "    os.makedirs(os.path.join(base_dir, val_dir, '50/'))\n",
    "except:\n",
    "    pass\n",
    "try:\n",
    "    os.makedirs(os.path.join(base_dir, val_dir, '100/'))\n",
    "except:\n",
    "    pass\n",
    "\n",
    "for image in train_cincoCent_images:\n",
    "    src = CincoCentDir + image\n",
    "    dst = os.path.join(base_dir, train_dir, '5/')\n",
    "    shutil.copy(src, dst)\n",
    "\n",
    "for image in train_dezCent_images:\n",
    "    src = DezCentDir + image\n",
    "    dst = os.path.join(base_dir, train_dir, '10/')\n",
    "    shutil.copy(src, dst)\n",
    "\n",
    "for image in train_vinteCincoCent_images:\n",
    "    src = VinteCincoCentDir + image\n",
    "    dst = os.path.join(base_dir, train_dir, '25/')\n",
    "    shutil.copy(src, dst)\n",
    "\n",
    "for image in train_cinquentaCent_images:\n",
    "    src = CinquentaCentDir + image\n",
    "    dst = os.path.join(base_dir, train_dir, '50/')\n",
    "    shutil.copy(src, dst)\n",
    "\n",
    "for image in train_umRealCent_images:\n",
    "    src = UmRealCentDir + image\n",
    "    dst = os.path.join(base_dir, train_dir, '100/')\n",
    "    shutil.copy(src, dst)\n",
    "\n",
    "for image in val_cincoCent_images:\n",
    "    src = CincoCentDir + image\n",
    "    dst = os.path.join(base_dir, val_dir, '5/')\n",
    "    shutil.copy(src, dst)\n",
    "\n",
    "for image in val_dezCent_images:\n",
    "    src = DezCentDir + image\n",
    "    dst = os.path.join(base_dir, val_dir, '10/')\n",
    "    shutil.copy(src, dst)\n",
    "\n",
    "for image in val_vinteCincoCent_images:\n",
    "    src = VinteCincoCentDir + image\n",
    "    dst = os.path.join(base_dir, val_dir, '25/')\n",
    "    shutil.copy(src, dst)\n",
    "\n",
    "for image in val_cinquentaCent_images:\n",
    "    src = CinquentaCentDir + image\n",
    "    dst = os.path.join(base_dir, val_dir, '50/')\n",
    "    shutil.copy(src, dst)\n",
    "\n",
    "for image in val_umRealCent_images:\n",
    "    src = UmRealCentDir + image\n",
    "    dst = os.path.join(base_dir, val_dir, '100/')\n",
    "    shutil.copy(src, dst)\n",
    "\n"
   ]
  },
  {
   "cell_type": "code",
   "execution_count": null,
   "metadata": {},
   "outputs": [
    {
     "name": "stdout",
     "output_type": "stream",
     "text": [
      "Found 2628 images belonging to 6 classes.\n",
      "Found 660 images belonging to 6 classes.\n"
     ]
    }
   ],
   "source": [
    "train_data_gen = tf.keras.preprocessing.image.ImageDataGenerator(rescale = 1/255.)\n",
    "val_data_gen = tf.keras.preprocessing.image.ImageDataGenerator(rescale = 1/255.)\n",
    "\n",
    "train_dataset = train_data_gen.flow_from_directory(os.path.join(base_dir, train_dir), target_size = (64,64), class_mode = 'categorical')\n",
    "val_dataset = val_data_gen.flow_from_directory(os.path.join(base_dir, val_dir), target_size = (64,64), class_mode = 'categorical')\n"
   ]
  },
  {
   "cell_type": "code",
   "execution_count": null,
   "metadata": {},
   "outputs": [
    {
     "name": "stdout",
     "output_type": "stream",
     "text": [
      "Model: \"sequential_8\"\n",
      "_________________________________________________________________\n",
      " Layer (type)                Output Shape              Param #   \n",
      "=================================================================\n",
      " conv2d_8 (Conv2D)           (None, 62, 62, 32)        896       \n",
      "                                                                 \n",
      " max_pooling2d_8 (MaxPoolin  (None, 31, 31, 32)        0         \n",
      " g2D)                                                            \n",
      "                                                                 \n",
      " flatten_8 (Flatten)         (None, 30752)             0         \n",
      "                                                                 \n",
      " dense_16 (Dense)            (None, 64)                1968192   \n",
      "                                                                 \n",
      " dense_17 (Dense)            (None, 5)                 325       \n",
      "                                                                 \n",
      "=================================================================\n",
      "Total params: 1969413 (7.51 MB)\n",
      "Trainable params: 1969413 (7.51 MB)\n",
      "Non-trainable params: 0 (0.00 Byte)\n",
      "_________________________________________________________________\n"
     ]
    }
   ],
   "source": [
    "model = tf.keras.Sequential()\n",
    "model.add(tf.keras.layers.Conv2D(32, (3, 3), activation='relu', input_shape=(64, 64, 3)))\n",
    "model.add(tf.keras.layers.MaxPooling2D((2, 2)))\n",
    "model.add(tf.keras.layers.Flatten())\n",
    "\n",
    "model.add(tf.keras.layers.Dense(64, activation='relu'))\n",
    "model.add(tf.keras.layers.Dense(5, activation='softmax'))\n",
    "model.summary()\n"
   ]
  },
  {
   "cell_type": "code",
   "execution_count": null,
   "metadata": {},
   "outputs": [],
   "source": [
    "opt = tf.keras.optimizers.Adam(learning_rate=0.02)\n",
    "\n",
    "model.compile(loss='categorical_crossentropy', optimizer=opt, metrics=['mse'])"
   ]
  },
  {
   "cell_type": "code",
   "execution_count": null,
   "metadata": {},
   "outputs": [
    {
     "ename": "NameError",
     "evalue": "name 'scipy' is not defined",
     "output_type": "error",
     "traceback": [
      "\u001b[1;31m---------------------------------------------------------------------------\u001b[0m",
      "\u001b[1;31mNameError\u001b[0m                                 Traceback (most recent call last)",
      "Cell \u001b[1;32mIn[68], line 1\u001b[0m\n\u001b[1;32m----> 1\u001b[0m history \u001b[38;5;241m=\u001b[39m \u001b[43mmodel\u001b[49m\u001b[38;5;241;43m.\u001b[39;49m\u001b[43mfit\u001b[49m\u001b[43m(\u001b[49m\u001b[43mtrain_dataset\u001b[49m\u001b[43m,\u001b[49m\u001b[43m \u001b[49m\u001b[43mvalidation_data\u001b[49m\u001b[38;5;241;43m=\u001b[39;49m\u001b[43mval_dataset\u001b[49m\u001b[43m,\u001b[49m\u001b[43m \u001b[49m\u001b[43mepochs\u001b[49m\u001b[38;5;241;43m=\u001b[39;49m\u001b[38;5;241;43m100\u001b[39;49m\u001b[43m)\u001b[49m\n",
      "File \u001b[1;32mc:\\Users\\BRUNO WELL\\Desktop\\contador de moedas real\\venv\\lib\\site-packages\\keras\\src\\utils\\traceback_utils.py:70\u001b[0m, in \u001b[0;36mfilter_traceback.<locals>.error_handler\u001b[1;34m(*args, **kwargs)\u001b[0m\n\u001b[0;32m     67\u001b[0m     filtered_tb \u001b[38;5;241m=\u001b[39m _process_traceback_frames(e\u001b[38;5;241m.\u001b[39m__traceback__)\n\u001b[0;32m     68\u001b[0m     \u001b[38;5;66;03m# To get the full stack trace, call:\u001b[39;00m\n\u001b[0;32m     69\u001b[0m     \u001b[38;5;66;03m# `tf.debugging.disable_traceback_filtering()`\u001b[39;00m\n\u001b[1;32m---> 70\u001b[0m     \u001b[38;5;28;01mraise\u001b[39;00m e\u001b[38;5;241m.\u001b[39mwith_traceback(filtered_tb) \u001b[38;5;28;01mfrom\u001b[39;00m \u001b[38;5;28;01mNone\u001b[39;00m\n\u001b[0;32m     71\u001b[0m \u001b[38;5;28;01mfinally\u001b[39;00m:\n\u001b[0;32m     72\u001b[0m     \u001b[38;5;28;01mdel\u001b[39;00m filtered_tb\n",
      "File \u001b[1;32mc:\\Users\\BRUNO WELL\\Desktop\\contador de moedas real\\venv\\lib\\site-packages\\keras\\src\\preprocessing\\image.py:2526\u001b[0m, in \u001b[0;36mapply_affine_transform\u001b[1;34m(x, theta, tx, ty, shear, zx, zy, row_axis, col_axis, channel_axis, fill_mode, cval, order)\u001b[0m\n\u001b[0;32m   2482\u001b[0m \u001b[38;5;129m@keras_export\u001b[39m(\u001b[38;5;124m\"\u001b[39m\u001b[38;5;124mkeras.preprocessing.image.apply_affine_transform\u001b[39m\u001b[38;5;124m\"\u001b[39m)\n\u001b[0;32m   2483\u001b[0m \u001b[38;5;28;01mdef\u001b[39;00m \u001b[38;5;21mapply_affine_transform\u001b[39m(\n\u001b[0;32m   2484\u001b[0m     x,\n\u001b[1;32m   (...)\u001b[0m\n\u001b[0;32m   2496\u001b[0m     order\u001b[38;5;241m=\u001b[39m\u001b[38;5;241m1\u001b[39m,\n\u001b[0;32m   2497\u001b[0m ):\n\u001b[0;32m   2498\u001b[0m \u001b[38;5;250m    \u001b[39m\u001b[38;5;124;03m\"\"\"Applies an affine transformation specified by the parameters given.\u001b[39;00m\n\u001b[0;32m   2499\u001b[0m \n\u001b[0;32m   2500\u001b[0m \u001b[38;5;124;03m    Args:\u001b[39;00m\n\u001b[1;32m   (...)\u001b[0m\n\u001b[0;32m   2524\u001b[0m \u001b[38;5;124;03m        ImportError: if SciPy is not available.\u001b[39;00m\n\u001b[0;32m   2525\u001b[0m \u001b[38;5;124;03m    \"\"\"\u001b[39;00m\n\u001b[1;32m-> 2526\u001b[0m     \u001b[38;5;28;01mif\u001b[39;00m \u001b[43mscipy\u001b[49m \u001b[38;5;129;01mis\u001b[39;00m \u001b[38;5;28;01mNone\u001b[39;00m:\n\u001b[0;32m   2527\u001b[0m         \u001b[38;5;28;01mraise\u001b[39;00m \u001b[38;5;167;01mImportError\u001b[39;00m(\u001b[38;5;124m\"\u001b[39m\u001b[38;5;124mImage transformations require SciPy. Install SciPy.\u001b[39m\u001b[38;5;124m\"\u001b[39m)\n\u001b[0;32m   2529\u001b[0m     \u001b[38;5;66;03m# Input sanity checks:\u001b[39;00m\n\u001b[0;32m   2530\u001b[0m     \u001b[38;5;66;03m# 1. x must 2D image with one or more channels (i.e., a 3D tensor)\u001b[39;00m\n\u001b[0;32m   2531\u001b[0m     \u001b[38;5;66;03m# 2. channels must be either first or last dimension\u001b[39;00m\n",
      "\u001b[1;31mNameError\u001b[0m: name 'scipy' is not defined"
     ]
    }
   ],
   "source": [
    "history = model.fit(train_dataset, validation_data=val_dataset, epochs=100)"
   ]
  },
  {
   "cell_type": "code",
   "execution_count": null,
   "metadata": {},
   "outputs": [],
   "source": [
    "\"\"\" \n",
    "plt.plot(history.history['loss'], label = 'loss')\n",
    "plt.plot(history.history['val_loss'], label = 'val_loss')\n",
    "plt.title(\"Função de perda\")\n",
    "plt.xlabel('Épocas')\n",
    "plt.ylabel('MSE')\n",
    "plt.legend([\"Treinando\"], loc='upper left')\n",
    "plt.show() \"\"\"\n",
    "        \n",
    "\n",
    "# Carrega o modelo treinado\n",
    "# model.save(os.path.join(base_dir,'model_train.h5'))"
   ]
  }
 ],
 "metadata": {
  "kernelspec": {
   "display_name": "Python 3",
   "language": "python",
   "name": "python3"
  },
  "language_info": {
   "codemirror_mode": {
    "name": "ipython",
    "version": 3
   },
   "file_extension": ".py",
   "mimetype": "text/x-python",
   "name": "python",
   "nbconvert_exporter": "python",
   "pygments_lexer": "ipython3",
   "version": "3.10.9"
  }
 },
 "nbformat": 4,
 "nbformat_minor": 2
}
